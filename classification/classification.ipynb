{
 "cells": [
  {
   "cell_type": "markdown",
   "metadata": {},
   "source": [
    "# Лабораторна Робота №2 \n",
    "## Чєвтаєв"
   ]
  },
  {
   "cell_type": "code",
   "execution_count": 1,
   "metadata": {},
   "outputs": [],
   "source": [
    "import pandas as pd\n",
    "import numpy as np\n",
    "\n",
    "from sklearn import metrics\n",
    "\n",
    "from sklearn.preprocessing import StandardScaler\n",
    "\n",
    "from sklearn.model_selection import train_test_split, cross_val_score\n"
   ]
  },
  {
   "cell_type": "code",
   "execution_count": 2,
   "metadata": {},
   "outputs": [],
   "source": [
    "#завантажимо дані\n",
    "col_names = ['Age', 'Year of operation', 'Number of positive axillary nodes', 'Survival status']\n",
    "initdata = pd.read_table('Documents/classdata/haberman.data', sep=',', names=col_names)"
   ]
  },
  {
   "cell_type": "code",
   "execution_count": 3,
   "metadata": {},
   "outputs": [
    {
     "data": {
      "text/html": [
       "<div>\n",
       "<style scoped>\n",
       "    .dataframe tbody tr th:only-of-type {\n",
       "        vertical-align: middle;\n",
       "    }\n",
       "\n",
       "    .dataframe tbody tr th {\n",
       "        vertical-align: top;\n",
       "    }\n",
       "\n",
       "    .dataframe thead th {\n",
       "        text-align: right;\n",
       "    }\n",
       "</style>\n",
       "<table border=\"1\" class=\"dataframe\">\n",
       "  <thead>\n",
       "    <tr style=\"text-align: right;\">\n",
       "      <th></th>\n",
       "      <th>Age</th>\n",
       "      <th>Year of operation</th>\n",
       "      <th>Number of positive axillary nodes</th>\n",
       "      <th>Survival status</th>\n",
       "    </tr>\n",
       "  </thead>\n",
       "  <tbody>\n",
       "    <tr>\n",
       "      <th>0</th>\n",
       "      <td>30</td>\n",
       "      <td>64</td>\n",
       "      <td>1</td>\n",
       "      <td>1</td>\n",
       "    </tr>\n",
       "    <tr>\n",
       "      <th>1</th>\n",
       "      <td>30</td>\n",
       "      <td>62</td>\n",
       "      <td>3</td>\n",
       "      <td>1</td>\n",
       "    </tr>\n",
       "    <tr>\n",
       "      <th>2</th>\n",
       "      <td>30</td>\n",
       "      <td>65</td>\n",
       "      <td>0</td>\n",
       "      <td>1</td>\n",
       "    </tr>\n",
       "    <tr>\n",
       "      <th>3</th>\n",
       "      <td>31</td>\n",
       "      <td>59</td>\n",
       "      <td>2</td>\n",
       "      <td>1</td>\n",
       "    </tr>\n",
       "    <tr>\n",
       "      <th>4</th>\n",
       "      <td>31</td>\n",
       "      <td>65</td>\n",
       "      <td>4</td>\n",
       "      <td>1</td>\n",
       "    </tr>\n",
       "  </tbody>\n",
       "</table>\n",
       "</div>"
      ],
      "text/plain": [
       "   Age  Year of operation  Number of positive axillary nodes  Survival status\n",
       "0   30                 64                                  1                1\n",
       "1   30                 62                                  3                1\n",
       "2   30                 65                                  0                1\n",
       "3   31                 59                                  2                1\n",
       "4   31                 65                                  4                1"
      ]
     },
     "execution_count": 3,
     "metadata": {},
     "output_type": "execute_result"
    }
   ],
   "source": [
    "initdata.head()"
   ]
  },
  {
   "cell_type": "code",
   "execution_count": 4,
   "metadata": {},
   "outputs": [
    {
     "data": {
      "text/plain": [
       "False"
      ]
     },
     "execution_count": 4,
     "metadata": {},
     "output_type": "execute_result"
    }
   ],
   "source": [
    "# пропущенних значень немає\n",
    "initdata.isnull().values.any()"
   ]
  },
  {
   "cell_type": "code",
   "execution_count": 5,
   "metadata": {},
   "outputs": [
    {
     "data": {
      "text/html": [
       "<div>\n",
       "<style scoped>\n",
       "    .dataframe tbody tr th:only-of-type {\n",
       "        vertical-align: middle;\n",
       "    }\n",
       "\n",
       "    .dataframe tbody tr th {\n",
       "        vertical-align: top;\n",
       "    }\n",
       "\n",
       "    .dataframe thead th {\n",
       "        text-align: right;\n",
       "    }\n",
       "</style>\n",
       "<table border=\"1\" class=\"dataframe\">\n",
       "  <thead>\n",
       "    <tr style=\"text-align: right;\">\n",
       "      <th></th>\n",
       "      <th>Age</th>\n",
       "      <th>Year of operation</th>\n",
       "      <th>Number of positive axillary nodes</th>\n",
       "      <th>Survival status</th>\n",
       "    </tr>\n",
       "  </thead>\n",
       "  <tbody>\n",
       "    <tr>\n",
       "      <th>0</th>\n",
       "      <td>30</td>\n",
       "      <td>64</td>\n",
       "      <td>1</td>\n",
       "      <td>1</td>\n",
       "    </tr>\n",
       "    <tr>\n",
       "      <th>1</th>\n",
       "      <td>30</td>\n",
       "      <td>62</td>\n",
       "      <td>3</td>\n",
       "      <td>1</td>\n",
       "    </tr>\n",
       "    <tr>\n",
       "      <th>2</th>\n",
       "      <td>30</td>\n",
       "      <td>65</td>\n",
       "      <td>0</td>\n",
       "      <td>1</td>\n",
       "    </tr>\n",
       "    <tr>\n",
       "      <th>3</th>\n",
       "      <td>31</td>\n",
       "      <td>59</td>\n",
       "      <td>2</td>\n",
       "      <td>1</td>\n",
       "    </tr>\n",
       "    <tr>\n",
       "      <th>4</th>\n",
       "      <td>31</td>\n",
       "      <td>65</td>\n",
       "      <td>4</td>\n",
       "      <td>1</td>\n",
       "    </tr>\n",
       "  </tbody>\n",
       "</table>\n",
       "</div>"
      ],
      "text/plain": [
       "   Age  Year of operation  Number of positive axillary nodes  Survival status\n",
       "0   30                 64                                  1                1\n",
       "1   30                 62                                  3                1\n",
       "2   30                 65                                  0                1\n",
       "3   31                 59                                  2                1\n",
       "4   31                 65                                  4                1"
      ]
     },
     "execution_count": 5,
     "metadata": {},
     "output_type": "execute_result"
    }
   ],
   "source": [
    "initdata.head()"
   ]
  },
  {
   "cell_type": "code",
   "execution_count": 6,
   "metadata": {},
   "outputs": [
    {
     "data": {
      "text/html": [
       "<div>\n",
       "<style scoped>\n",
       "    .dataframe tbody tr th:only-of-type {\n",
       "        vertical-align: middle;\n",
       "    }\n",
       "\n",
       "    .dataframe tbody tr th {\n",
       "        vertical-align: top;\n",
       "    }\n",
       "\n",
       "    .dataframe thead th {\n",
       "        text-align: right;\n",
       "    }\n",
       "</style>\n",
       "<table border=\"1\" class=\"dataframe\">\n",
       "  <thead>\n",
       "    <tr style=\"text-align: right;\">\n",
       "      <th></th>\n",
       "      <th>Age</th>\n",
       "      <th>Year of operation</th>\n",
       "      <th>Number of positive axillary nodes</th>\n",
       "    </tr>\n",
       "  </thead>\n",
       "  <tbody>\n",
       "    <tr>\n",
       "      <th>0</th>\n",
       "      <td>30</td>\n",
       "      <td>64</td>\n",
       "      <td>1</td>\n",
       "    </tr>\n",
       "    <tr>\n",
       "      <th>1</th>\n",
       "      <td>30</td>\n",
       "      <td>62</td>\n",
       "      <td>3</td>\n",
       "    </tr>\n",
       "    <tr>\n",
       "      <th>2</th>\n",
       "      <td>30</td>\n",
       "      <td>65</td>\n",
       "      <td>0</td>\n",
       "    </tr>\n",
       "    <tr>\n",
       "      <th>3</th>\n",
       "      <td>31</td>\n",
       "      <td>59</td>\n",
       "      <td>2</td>\n",
       "    </tr>\n",
       "    <tr>\n",
       "      <th>4</th>\n",
       "      <td>31</td>\n",
       "      <td>65</td>\n",
       "      <td>4</td>\n",
       "    </tr>\n",
       "  </tbody>\n",
       "</table>\n",
       "</div>"
      ],
      "text/plain": [
       "   Age  Year of operation  Number of positive axillary nodes\n",
       "0   30                 64                                  1\n",
       "1   30                 62                                  3\n",
       "2   30                 65                                  0\n",
       "3   31                 59                                  2\n",
       "4   31                 65                                  4"
      ]
     },
     "execution_count": 6,
     "metadata": {},
     "output_type": "execute_result"
    }
   ],
   "source": [
    "response = initdata['Survival status']\n",
    "inputvars = initdata.drop(['Survival status'], axis=1)\n",
    "inputvars.head()"
   ]
  },
  {
   "cell_type": "code",
   "execution_count": 7,
   "metadata": {},
   "outputs": [
    {
     "data": {
      "text/plain": [
       "array([[<matplotlib.axes._subplots.AxesSubplot object at 0x0000018623EBBA90>,\n",
       "        <matplotlib.axes._subplots.AxesSubplot object at 0x0000018623F95D68>],\n",
       "       [<matplotlib.axes._subplots.AxesSubplot object at 0x0000018623FCA240>,\n",
       "        <matplotlib.axes._subplots.AxesSubplot object at 0x0000018623FF28D0>]],\n",
       "      dtype=object)"
      ]
     },
     "execution_count": 7,
     "metadata": {},
     "output_type": "execute_result"
    }
   ],
   "source": [
    "# бачимо, що пацієнти по віку мають нормальний розподіл\n",
    "# найбільше операцій припало з 58 до 64\n",
    "# найбільша кількість паціентів з кількістю axillary nodes меньше ніж 10 \n",
    "inputvars.hist(column=[\"Year of operation\", \"Age\", \"Number of positive axillary nodes\"], figsize=(12,12))"
   ]
  },
  {
   "cell_type": "code",
   "execution_count": 8,
   "metadata": {},
   "outputs": [
    {
     "data": {
      "image/png": "[encoded data removed]",
      "text/plain": [
       "<Figure size 432x288 with 1 Axes>"
      ]
     },
     "metadata": {},
     "output_type": "display_data"
    }
   ],
   "source": [
    "import matplotlib.pyplot as plt\n",
    "\n",
    "plt.scatter(x=initdata['Age'],y=initdata['Number of positive axillary nodes'],c=initdata['Survival status'])\n",
    "plt.show()"
   ]
  },
  {
   "cell_type": "code",
   "execution_count": 9,
   "metadata": {},
   "outputs": [
    {
     "name": "stderr",
     "output_type": "stream",
     "text": [
      "C:\\Users\\deboshirbalaganovich\\Anaconda3\\lib\\site-packages\\ipykernel_launcher.py:9: FutureWarning: pandas.scatter_matrix is deprecated. Use pandas.plotting.scatter_matrix instead\n",
      "  if __name__ == '__main__':\n"
     ]
    },
    {
     "data": {
      "image/png": "[encoded data removed]",
      "text/plain": [
       "<Figure size 792x792 with 9 Axes>"
      ]
     },
     "metadata": {},
     "output_type": "display_data"
    }
   ],
   "source": [
    "from pandas.plotting import scatter_matrix\n",
    "from matplotlib import cm\n",
    "\n",
    "colums = ['Age', 'Year of operation', 'Number of positive axillary nodes']\n",
    "X = initdata[colums]\n",
    "y = initdata['Survival status']\n",
    "\n",
    "cmap = cm.get_cmap('gnuplot')\n",
    "scatter = pd.scatter_matrix(X, c = y, marker = 'o', s=40, hist_kwds={'bins':15}, figsize=(11, 11), cmap = plt.cm.RdYlGn)\n",
    "\n",
    "plt.suptitle('Scatter-matrix for each input variable')\n",
    "plt.savefig('scatter_matrix')"
   ]
  },
  {
   "cell_type": "markdown",
   "metadata": {},
   "source": [
    "# Наївний байєсiвський класифiкатор"
   ]
  },
  {
   "cell_type": "code",
   "execution_count": 10,
   "metadata": {},
   "outputs": [],
   "source": [
    "x_train, x_test, y_train, y_test = train_test_split(inputvars, response, test_size=0.2)"
   ]
  },
  {
   "cell_type": "code",
   "execution_count": 11,
   "metadata": {},
   "outputs": [],
   "source": [
    "from sklearn.naive_bayes import GaussianNB\n",
    "\n",
    "#Create a Gaussian Classifier\n",
    "gnb = GaussianNB()\n",
    "\n",
    "#Train the model using the training sets\n",
    "gnb.fit(x_train, y_train)\n",
    "\n",
    "#Predict the response for test dataset\n",
    "y_pred = gnb.predict(x_test)"
   ]
  },
  {
   "cell_type": "code",
   "execution_count": 12,
   "metadata": {},
   "outputs": [
    {
     "name": "stdout",
     "output_type": "stream",
     "text": [
      "Accuracy: 0.6935483870967742\n",
      "F1:  0.8\n",
      "Confusion Matrix:\n",
      "  [[38  2]\n",
      " [17  5]]\n",
      "Precision Score:  0.6909090909090909\n"
     ]
    }
   ],
   "source": [
    "print(\"Accuracy:\", metrics.accuracy_score(y_test, y_pred))\n",
    "print(\"F1: \", metrics.f1_score(y_test, y_pred))\n",
    "print(\"Confusion Matrix:\\n \", metrics.confusion_matrix(y_test, y_pred))\n",
    "print(\"Precision Score: \", metrics.precision_score(y_test, y_pred))"
   ]
  },
  {
   "cell_type": "markdown",
   "metadata": {},
   "source": [
    "# Метод k-nn класифікації "
   ]
  },
  {
   "cell_type": "code",
   "execution_count": 13,
   "metadata": {},
   "outputs": [],
   "source": [
    "# Метод k-nn класифікації \n",
    "# підготуємо данні для викоритсання у k-nn алгоритмі, тому що ми використовуємо еклідову відстань, а при\n",
    "# такому налаштунку алгоритм чутливий до великих різниць між числовими значеннями данних\n",
    "\n",
    "\n",
    "sc_X = StandardScaler()\n",
    "kx_train = sc_X.fit_transform(x_train)\n",
    "kx_test = sc_X.transform(x_test)"
   ]
  },
  {
   "cell_type": "code",
   "execution_count": 14,
   "metadata": {},
   "outputs": [
    {
     "name": "stdout",
     "output_type": "stream",
     "text": [
      "KNeighborsClassifier(algorithm='auto', leaf_size=30, metric='minkowski',\n",
      "           metric_params=None, n_jobs=1, n_neighbors=1, p=2,\n",
      "           weights='uniform')\n",
      "[1 1 1 1 1 1 1 2 1 1 1 2 1 1 1 1 1 1 1 2 2 2 2 1 1 2 2 1 1 2 2 1 1 1 2 1 1\n",
      " 1 1 1 1 1 2 1 1 1 1 1 2 1 1 1 1 1 1 2 1 1 1 1 1 2]\n",
      "[[30 10]\n",
      " [17  5]]\n",
      "0.5645161290322581\n",
      "0.6896551724137931\n",
      "0.4666666666666666\n",
      "KNeighborsClassifier(algorithm='auto', leaf_size=30, metric='minkowski',\n",
      "           metric_params=None, n_jobs=1, n_neighbors=2, p=2,\n",
      "           weights='uniform')\n",
      "[1 1 1 1 1 1 1 2 1 1 1 1 1 1 1 1 1 1 1 2 1 1 1 1 1 1 2 1 1 2 1 1 1 1 2 1 1\n",
      " 1 1 1 1 1 1 1 1 1 1 1 1 1 1 1 1 1 1 1 1 1 1 1 1 1]\n",
      "[[35  5]\n",
      " [22  0]]\n",
      "0.5645161290322581\n",
      "0.7216494845360825\n",
      "0.6151515151515151\n",
      "KNeighborsClassifier(algorithm='auto', leaf_size=30, metric='minkowski',\n",
      "           metric_params=None, n_jobs=1, n_neighbors=3, p=2,\n",
      "           weights='uniform')\n",
      "[2 1 2 1 1 1 1 2 2 1 2 1 1 1 1 1 1 1 1 2 2 1 2 1 1 2 2 1 1 2 1 1 1 1 2 1 1\n",
      " 1 1 1 1 1 1 1 1 1 1 1 2 1 2 1 1 1 1 1 1 1 1 1 1 2]\n",
      "[[29 11]\n",
      " [18  4]]\n",
      "0.532258064516129\n",
      "0.6666666666666666\n",
      "0.6318181818181818\n",
      "KNeighborsClassifier(algorithm='auto', leaf_size=30, metric='minkowski',\n",
      "           metric_params=None, n_jobs=1, n_neighbors=4, p=2,\n",
      "           weights='uniform')\n",
      "[1 1 1 1 1 1 1 1 1 1 1 1 1 1 1 1 1 1 1 1 1 1 1 1 1 2 2 1 1 1 1 1 1 1 1 1 1\n",
      " 1 1 1 1 1 1 1 1 1 1 1 2 1 2 1 1 1 1 1 1 1 1 1 1 2]\n",
      "[[36  4]\n",
      " [21  1]]\n",
      "0.5967741935483871\n",
      "0.7422680412371133\n",
      "0.6818181818181818\n",
      "KNeighborsClassifier(algorithm='auto', leaf_size=30, metric='minkowski',\n",
      "           metric_params=None, n_jobs=1, n_neighbors=5, p=2,\n",
      "           weights='uniform')\n",
      "[1 1 2 1 1 1 2 2 1 1 1 1 1 1 1 1 1 1 1 2 2 1 1 1 1 2 2 1 1 1 1 1 1 1 2 1 1\n",
      " 1 1 1 1 1 1 1 1 1 1 1 2 1 2 1 1 1 1 2 1 1 1 1 1 2]\n",
      "[[32  8]\n",
      " [18  4]]\n",
      "0.5806451612903226\n",
      "0.7111111111111111\n",
      "0.6954545454545454\n",
      "KNeighborsClassifier(algorithm='auto', leaf_size=30, metric='minkowski',\n",
      "           metric_params=None, n_jobs=1, n_neighbors=6, p=2,\n",
      "           weights='uniform')\n",
      "[1 1 2 1 1 1 2 1 1 1 1 1 1 1 1 1 1 1 1 1 1 1 1 1 1 1 2 1 1 1 1 1 1 1 1 1 1\n",
      " 1 1 1 1 1 1 1 1 1 1 1 1 1 1 1 1 1 1 2 1 1 1 1 1 2]\n",
      "[[38  2]\n",
      " [19  3]]\n",
      "0.6612903225806451\n",
      "0.7835051546391752\n",
      "0.6318181818181818\n",
      "KNeighborsClassifier(algorithm='auto', leaf_size=30, metric='minkowski',\n",
      "           metric_params=None, n_jobs=1, n_neighbors=7, p=2,\n",
      "           weights='uniform')\n",
      "[1 1 2 1 1 1 2 1 1 1 1 2 1 1 1 2 1 1 1 1 1 1 1 1 1 2 2 1 1 1 1 1 1 1 1 1 1\n",
      " 1 1 1 1 1 1 1 1 1 1 1 1 1 1 1 1 1 1 2 1 1 1 1 1 2]\n",
      "[[37  3]\n",
      " [17  5]]\n",
      "0.6774193548387096\n",
      "0.7872340425531915\n",
      "0.6636363636363636\n",
      "KNeighborsClassifier(algorithm='auto', leaf_size=30, metric='minkowski',\n",
      "           metric_params=None, n_jobs=1, n_neighbors=8, p=2,\n",
      "           weights='uniform')\n",
      "[1 1 1 1 1 1 2 1 1 1 1 1 1 1 1 1 1 1 1 1 1 1 1 1 1 1 2 1 1 1 1 1 1 1 1 1 1\n",
      " 1 1 1 1 1 1 1 1 1 1 1 1 1 1 1 1 1 1 2 1 1 1 1 1 2]\n",
      "[[38  2]\n",
      " [20  2]]\n",
      "0.6451612903225806\n",
      "0.7755102040816326\n",
      "0.646969696969697\n",
      "KNeighborsClassifier(algorithm='auto', leaf_size=30, metric='minkowski',\n",
      "           metric_params=None, n_jobs=1, n_neighbors=9, p=2,\n",
      "           weights='uniform')\n",
      "[1 1 1 1 1 1 2 2 1 1 1 2 1 1 1 1 1 1 1 1 1 1 1 1 1 1 2 1 1 1 1 1 1 1 1 1 1\n",
      " 1 1 1 1 1 1 1 1 1 1 1 1 1 1 1 1 1 1 2 1 1 1 1 1 2]\n",
      "[[37  3]\n",
      " [19  3]]\n",
      "0.6451612903225806\n",
      "0.7708333333333333\n",
      "0.6803030303030303\n",
      "KNeighborsClassifier(algorithm='auto', leaf_size=30, metric='minkowski',\n",
      "           metric_params=None, n_jobs=1, n_neighbors=10, p=2,\n",
      "           weights='uniform')\n",
      "[1 1 1 1 1 1 2 1 1 1 1 1 1 1 1 1 1 1 1 1 1 1 1 1 1 1 2 1 1 1 1 1 1 1 1 1 1\n",
      " 1 1 1 1 1 1 1 1 1 1 1 1 1 1 1 1 1 1 2 1 1 1 1 1 2]\n",
      "[[38  2]\n",
      " [20  2]]\n",
      "0.6451612903225806\n",
      "0.7755102040816326\n",
      "0.6303030303030304\n",
      "KNeighborsClassifier(algorithm='auto', leaf_size=30, metric='minkowski',\n",
      "           metric_params=None, n_jobs=1, n_neighbors=11, p=2,\n",
      "           weights='uniform')\n",
      "[1 1 1 1 1 1 2 1 1 1 1 1 1 1 1 1 1 1 1 1 1 1 2 1 1 2 2 1 1 1 1 1 1 1 1 1 1\n",
      " 1 1 1 1 1 1 1 1 1 1 1 1 1 1 1 1 1 1 2 1 1 1 1 1 2]\n",
      "[[37  3]\n",
      " [19  3]]\n",
      "0.6451612903225806\n",
      "0.7708333333333333\n",
      "0.6636363636363637\n",
      "KNeighborsClassifier(algorithm='auto', leaf_size=30, metric='minkowski',\n",
      "           metric_params=None, n_jobs=1, n_neighbors=12, p=2,\n",
      "           weights='uniform')\n",
      "[1 1 1 1 1 1 2 1 1 1 1 1 1 1 1 1 1 1 1 1 1 1 2 1 1 2 2 1 1 1 1 1 1 1 1 1 1\n",
      " 1 1 1 1 1 1 1 1 1 1 1 1 1 1 1 1 1 1 2 1 1 1 1 1 2]\n",
      "[[37  3]\n",
      " [19  3]]\n",
      "0.6451612903225806\n",
      "0.7708333333333333\n",
      "0.6787878787878787\n",
      "KNeighborsClassifier(algorithm='auto', leaf_size=30, metric='minkowski',\n",
      "           metric_params=None, n_jobs=1, n_neighbors=13, p=2,\n",
      "           weights='uniform')\n",
      "[1 1 2 1 1 2 2 1 1 1 1 1 1 1 1 1 1 1 1 1 1 1 2 1 1 2 2 1 1 1 1 1 1 1 1 1 1\n",
      " 1 1 1 1 1 1 1 1 1 1 1 1 1 1 1 1 1 1 2 1 1 1 1 1 2]\n",
      "[[37  3]\n",
      " [17  5]]\n",
      "0.6774193548387096\n",
      "0.7872340425531915\n",
      "0.6787878787878787\n",
      "KNeighborsClassifier(algorithm='auto', leaf_size=30, metric='minkowski',\n",
      "           metric_params=None, n_jobs=1, n_neighbors=14, p=2,\n",
      "           weights='uniform')\n",
      "[1 1 1 1 1 1 2 1 1 1 1 1 1 1 1 1 1 1 1 1 1 1 2 1 1 2 2 1 1 1 1 1 1 1 1 1 1\n",
      " 1 1 1 1 1 1 1 1 1 1 1 1 1 1 1 1 1 1 2 1 1 1 1 1 2]\n",
      "[[37  3]\n",
      " [19  3]]\n",
      "0.6451612903225806\n",
      "0.7708333333333333\n",
      "0.6318181818181817\n",
      "KNeighborsClassifier(algorithm='auto', leaf_size=30, metric='minkowski',\n",
      "           metric_params=None, n_jobs=1, n_neighbors=15, p=2,\n",
      "           weights='uniform')\n",
      "[1 1 1 1 1 1 2 1 1 1 1 1 1 1 1 1 1 1 1 1 1 1 2 1 1 2 2 1 1 1 1 1 1 1 1 1 1\n",
      " 1 1 1 1 1 1 1 1 1 1 1 1 1 1 1 1 1 1 2 1 1 1 1 1 2]\n",
      "[[37  3]\n",
      " [19  3]]\n",
      "0.6451612903225806\n",
      "0.7708333333333333\n",
      "0.6787878787878787\n",
      "KNeighborsClassifier(algorithm='auto', leaf_size=30, metric='minkowski',\n",
      "           metric_params=None, n_jobs=1, n_neighbors=16, p=2,\n",
      "           weights='uniform')\n",
      "[1 1 1 1 1 1 2 1 1 1 1 1 1 1 1 1 1 1 1 1 1 1 2 1 1 2 2 1 1 1 1 1 1 1 1 1 1\n",
      " 1 1 1 1 1 1 1 1 1 1 1 1 1 1 1 1 1 1 2 1 1 1 1 1 2]\n",
      "[[37  3]\n",
      " [19  3]]\n",
      "0.6451612903225806\n",
      "0.7708333333333333\n",
      "0.6166666666666666\n",
      "KNeighborsClassifier(algorithm='auto', leaf_size=30, metric='minkowski',\n",
      "           metric_params=None, n_jobs=1, n_neighbors=17, p=2,\n",
      "           weights='uniform')\n",
      "[1 1 1 1 1 2 2 1 1 1 1 1 1 1 1 1 1 1 1 1 1 1 2 1 1 2 2 1 1 1 1 1 1 1 1 1 1\n",
      " 1 1 1 1 1 1 1 1 1 1 1 1 1 1 1 1 1 1 2 1 1 1 1 1 2]\n",
      "[[37  3]\n",
      " [18  4]]\n",
      "0.6612903225806451\n",
      "0.7789473684210527\n",
      "0.6166666666666666\n",
      "KNeighborsClassifier(algorithm='auto', leaf_size=30, metric='minkowski',\n",
      "           metric_params=None, n_jobs=1, n_neighbors=18, p=2,\n",
      "           weights='uniform')\n",
      "[1 1 1 1 1 1 2 1 1 1 1 1 1 1 1 1 1 1 1 1 1 1 2 1 1 2 2 1 1 1 1 1 1 1 1 1 1\n",
      " 1 1 1 1 1 1 1 1 1 1 1 1 1 1 1 1 1 1 2 1 1 1 1 1 2]\n",
      "[[37  3]\n",
      " [19  3]]\n",
      "0.6451612903225806\n",
      "0.7708333333333333\n",
      "0.6166666666666666\n",
      "KNeighborsClassifier(algorithm='auto', leaf_size=30, metric='minkowski',\n",
      "           metric_params=None, n_jobs=1, n_neighbors=19, p=2,\n",
      "           weights='uniform')\n",
      "[1 1 1 1 1 2 2 1 1 1 1 1 1 1 1 1 1 1 1 1 1 1 2 1 1 2 2 1 1 1 1 1 1 1 1 1 1\n",
      " 1 1 1 1 1 1 1 1 1 1 1 1 1 1 1 1 1 1 2 1 1 1 1 1 2]\n",
      "[[37  3]\n",
      " [18  4]]\n",
      "0.6612903225806451\n",
      "0.7789473684210527\n",
      "0.6484848484848484\n",
      "KNeighborsClassifier(algorithm='auto', leaf_size=30, metric='minkowski',\n",
      "           metric_params=None, n_jobs=1, n_neighbors=20, p=2,\n",
      "           weights='uniform')\n",
      "[1 1 1 1 1 1 2 1 1 1 1 1 1 1 1 1 1 1 1 1 1 1 2 1 1 2 2 1 1 1 1 1 1 1 1 1 1\n",
      " 1 1 1 1 1 1 1 1 1 1 1 1 1 1 1 1 1 1 2 1 1 1 1 1 2]\n",
      "[[37  3]\n",
      " [19  3]]\n",
      "0.6451612903225806\n",
      "0.7708333333333333\n",
      "0.6621212121212121\n",
      "KNeighborsClassifier(algorithm='auto', leaf_size=30, metric='minkowski',\n",
      "           metric_params=None, n_jobs=1, n_neighbors=21, p=2,\n",
      "           weights='uniform')\n",
      "[1 1 1 1 1 1 2 1 1 1 1 1 1 1 1 1 1 1 1 1 1 1 2 1 1 2 2 1 1 1 1 1 1 1 1 1 1\n",
      " 1 1 1 1 1 1 1 1 1 1 1 1 1 1 1 1 1 1 2 1 1 1 1 1 2]\n",
      "[[37  3]\n",
      " [19  3]]\n",
      "0.6451612903225806\n",
      "0.7708333333333333\n",
      "0.6621212121212121\n",
      "KNeighborsClassifier(algorithm='auto', leaf_size=30, metric='minkowski',\n",
      "           metric_params=None, n_jobs=1, n_neighbors=22, p=2,\n",
      "           weights='uniform')\n",
      "[1 1 1 1 1 1 2 1 1 1 1 1 1 1 1 1 1 1 1 1 1 1 2 1 1 2 2 1 1 1 1 1 1 1 1 1 1\n",
      " 1 1 1 1 1 1 1 1 1 1 1 1 1 1 1 1 1 1 2 1 1 1 1 1 1]\n",
      "[[38  2]\n",
      " [19  3]]\n",
      "0.6612903225806451\n",
      "0.7835051546391752\n",
      "0.6454545454545455\n",
      "KNeighborsClassifier(algorithm='auto', leaf_size=30, metric='minkowski',\n",
      "           metric_params=None, n_jobs=1, n_neighbors=23, p=2,\n",
      "           weights='uniform')\n",
      "[1 1 1 1 1 1 2 1 1 1 1 1 1 1 1 1 1 1 1 1 1 1 2 1 1 2 2 1 1 1 1 1 1 1 1 1 1\n",
      " 1 1 1 1 1 1 1 1 1 1 1 1 1 1 1 1 1 1 2 1 1 1 1 1 2]\n",
      "[[37  3]\n",
      " [19  3]]\n",
      "0.6451612903225806\n",
      "0.7708333333333333\n",
      "0.6454545454545455\n",
      "KNeighborsClassifier(algorithm='auto', leaf_size=30, metric='minkowski',\n",
      "           metric_params=None, n_jobs=1, n_neighbors=24, p=2,\n",
      "           weights='uniform')\n",
      "[1 1 1 1 1 1 2 1 1 1 1 1 1 1 1 1 1 1 1 1 1 1 2 1 1 2 2 1 1 1 1 1 1 1 1 1 1\n",
      " 1 1 1 1 1 1 1 1 1 1 1 1 1 1 1 1 1 1 2 1 1 1 1 1 1]\n",
      "[[38  2]\n",
      " [19  3]]\n",
      "0.6612903225806451\n",
      "0.7835051546391752\n",
      "0.6454545454545455\n",
      "KNeighborsClassifier(algorithm='auto', leaf_size=30, metric='minkowski',\n",
      "           metric_params=None, n_jobs=1, n_neighbors=25, p=2,\n",
      "           weights='uniform')\n",
      "[1 1 1 1 1 1 2 1 1 1 1 1 1 1 1 1 1 1 1 1 1 1 2 1 1 2 2 1 1 1 1 1 1 1 1 1 1\n",
      " 1 1 1 1 1 1 1 1 1 1 1 1 1 1 1 1 1 1 2 1 1 1 1 1 1]\n",
      "[[38  2]\n",
      " [19  3]]\n",
      "0.6612903225806451\n",
      "0.7835051546391752\n",
      "0.6454545454545455\n",
      "KNeighborsClassifier(algorithm='auto', leaf_size=30, metric='minkowski',\n",
      "           metric_params=None, n_jobs=1, n_neighbors=26, p=2,\n",
      "           weights='uniform')\n",
      "[1 1 1 1 1 1 2 1 1 1 1 1 1 1 1 1 1 1 1 1 1 1 2 1 1 2 2 1 1 1 1 1 1 1 1 1 1\n",
      " 1 1 1 1 1 1 1 1 1 1 1 1 1 1 1 1 1 1 2 1 1 1 1 1 1]\n",
      "[[38  2]\n",
      " [19  3]]\n",
      "0.6612903225806451\n",
      "0.7835051546391752\n",
      "0.6454545454545455\n",
      "KNeighborsClassifier(algorithm='auto', leaf_size=30, metric='minkowski',\n",
      "           metric_params=None, n_jobs=1, n_neighbors=27, p=2,\n",
      "           weights='uniform')\n",
      "[1 1 1 1 1 1 2 1 1 1 1 1 1 1 1 1 1 1 1 1 1 1 2 1 1 2 2 1 1 1 1 1 1 1 1 1 1\n",
      " 1 1 1 1 1 1 1 1 1 1 1 1 1 1 1 1 1 1 2 1 1 1 1 1 1]\n",
      "[[38  2]\n",
      " [19  3]]\n",
      "0.6612903225806451\n",
      "0.7835051546391752\n",
      "0.6454545454545455\n"
     ]
    },
    {
     "name": "stdout",
     "output_type": "stream",
     "text": [
      "KNeighborsClassifier(algorithm='auto', leaf_size=30, metric='minkowski',\n",
      "           metric_params=None, n_jobs=1, n_neighbors=28, p=2,\n",
      "           weights='uniform')\n",
      "[1 1 1 1 1 1 2 1 1 1 1 1 1 1 1 1 1 1 1 1 1 1 2 1 1 2 2 1 1 1 1 1 1 1 1 1 1\n",
      " 1 1 1 1 1 1 1 1 1 1 1 1 1 1 1 1 1 1 2 1 1 1 1 1 1]\n",
      "[[38  2]\n",
      " [19  3]]\n",
      "0.6612903225806451\n",
      "0.7835051546391752\n",
      "0.6454545454545455\n",
      "KNeighborsClassifier(algorithm='auto', leaf_size=30, metric='minkowski',\n",
      "           metric_params=None, n_jobs=1, n_neighbors=29, p=2,\n",
      "           weights='uniform')\n",
      "[1 1 2 1 1 1 2 1 1 1 1 1 1 1 1 1 1 1 1 1 1 1 2 1 1 2 2 1 1 1 1 1 1 1 1 1 1\n",
      " 1 1 1 1 1 1 1 1 1 1 1 1 1 1 1 1 1 1 2 1 1 1 1 1 1]\n",
      "[[38  2]\n",
      " [18  4]]\n",
      "0.6774193548387096\n",
      "0.7916666666666667\n",
      "0.6454545454545455\n"
     ]
    }
   ],
   "source": [
    "from sklearn.neighbors import KNeighborsClassifier\n",
    "\n",
    "for i in range(1,30):\n",
    "    \n",
    "    knn_classifier = KNeighborsClassifier(n_neighbors=i, p=2)\n",
    "    knn_classifier.fit(kx_train, y_train)\n",
    "    y_pred = knn_classifier.predict(kx_test)\n",
    "    print(knn_classifier)\n",
    "    print(y_pred)\n",
    "    print(metrics.confusion_matrix(y_test, y_pred))\n",
    "    print(metrics.accuracy_score(y_test, y_pred))\n",
    "    print(metrics.f1_score(y_test, y_pred))\n",
    "    scores = cross_val_score(knn_classifier, kx_test, y_test)\n",
    "    print(scores.mean())\n",
    "    "
   ]
  },
  {
   "cell_type": "code",
   "execution_count": 15,
   "metadata": {},
   "outputs": [
    {
     "name": "stdout",
     "output_type": "stream",
     "text": [
      "[0.5645161290322581, 0.5645161290322581, 0.532258064516129, 0.5967741935483871, 0.5806451612903226, 0.6612903225806451, 0.6774193548387096, 0.6451612903225806, 0.6451612903225806, 0.6451612903225806, 0.6451612903225806, 0.6451612903225806, 0.6774193548387096, 0.6451612903225806, 0.6451612903225806, 0.6451612903225806, 0.6612903225806451, 0.6451612903225806, 0.6612903225806451, 0.6451612903225806, 0.6451612903225806, 0.6612903225806451, 0.6451612903225806, 0.6612903225806451, 0.6612903225806451, 0.6612903225806451, 0.6612903225806451, 0.6612903225806451, 0.6774193548387096]\n"
     ]
    }
   ],
   "source": [
    "from sklearn.neighbors import KNeighborsClassifier\n",
    "\n",
    "k_scores = []\n",
    "\n",
    "for i in range(1,30):\n",
    "    \n",
    "    knn_classifier = KNeighborsClassifier(n_neighbors=i, p=2)\n",
    "    knn_classifier.fit(kx_train, y_train)\n",
    "    y_pred = knn_classifier.predict(kx_test)\n",
    "    acc = metrics.accuracy_score(y_test, y_pred)\n",
    "    k_scores.append(acc)\n",
    "\n",
    "print(k_scores)"
   ]
  },
  {
   "cell_type": "code",
   "execution_count": 16,
   "metadata": {},
   "outputs": [
    {
     "name": "stdout",
     "output_type": "stream",
     "text": [
      "0.6774193548387096\n"
     ]
    },
    {
     "data": {
      "text/plain": [
       "[<matplotlib.lines.Line2D at 0x18625ce5208>]"
      ]
     },
     "execution_count": 16,
     "metadata": {},
     "output_type": "execute_result"
    },
    {
     "data": {
      "image/png": "[encoded data removed]",
      "text/plain": [
       "<Figure size 432x288 with 1 Axes>"
      ]
     },
     "metadata": {},
     "output_type": "display_data"
    }
   ],
   "source": [
    "import matplotlib.pyplot as plt\n",
    "print(max(k_scores))\n",
    "max_index = k_scores.index(max(k_scores)) + 1\n",
    "\n",
    "plt.plot(range(1,30), k_scores)"
   ]
  },
  {
   "cell_type": "code",
   "execution_count": 17,
   "metadata": {},
   "outputs": [
    {
     "name": "stdout",
     "output_type": "stream",
     "text": [
      "KNeighborsClassifier(algorithm='auto', leaf_size=30, metric='minkowski',\n",
      "           metric_params=None, n_jobs=1, n_neighbors=7, p=2,\n",
      "           weights='uniform')\n",
      "Accuracy: 0.6774193548387096\n",
      "F1:  0.7872340425531915\n",
      "Confusion Matrix:\n",
      "  [[37  3]\n",
      " [17  5]]\n",
      "Precision Score:  0.6851851851851852\n"
     ]
    }
   ],
   "source": [
    "#Використаємо параметр n_neighbors з наших тестів\n",
    "knn_classifier = KNeighborsClassifier(n_neighbors=max_index, p=2)\n",
    "knn_classifier.fit(kx_train, y_train)\n",
    "y_pred = knn_classifier.predict(kx_test)\n",
    "print(knn_classifier)\n",
    "print(\"Accuracy:\", metrics.accuracy_score(y_test, y_pred))\n",
    "print(\"F1: \", metrics.f1_score(y_test, y_pred))\n",
    "print(\"Confusion Matrix:\\n \", metrics.confusion_matrix(y_test, y_pred))\n",
    "print(\"Precision Score: \", metrics.precision_score(y_test, y_pred))\n"
   ]
  },
  {
   "cell_type": "markdown",
   "metadata": {},
   "source": [
    "# Логістична Регресія"
   ]
  },
  {
   "cell_type": "code",
   "execution_count": 18,
   "metadata": {},
   "outputs": [
    {
     "name": "stdout",
     "output_type": "stream",
     "text": [
      "Accuracy: 0.6774193548387096\n",
      "F1:  0.7916666666666667\n",
      "Confusion Matrix:\n",
      "  [[38  2]\n",
      " [18  4]]\n",
      "Precision Score:  0.6785714285714286\n"
     ]
    }
   ],
   "source": [
    "#Спробуємо провести класифікацію за допомогою методу логістичної регресії\n",
    "from sklearn.linear_model import LogisticRegression\n",
    "\n",
    "\n",
    "\n",
    "log_reg = LogisticRegression(random_state=3)\n",
    "log_reg.fit(x_train, y_train)\n",
    "y_pred = log_reg.predict(x_test)\n",
    "\n",
    "\n",
    "print(\"Accuracy:\", metrics.accuracy_score(y_test, y_pred))\n",
    "print(\"F1: \", metrics.f1_score(y_test, y_pred))\n",
    "print(\"Confusion Matrix:\\n \", metrics.confusion_matrix(y_test, y_pred))\n",
    "print(\"Precision Score: \", metrics.precision_score(y_test, y_pred))\n"
   ]
  },
  {
   "cell_type": "markdown",
   "metadata": {},
   "source": [
    "## Створюємо фактор-змінну замість Age"
   ]
  },
  {
   "cell_type": "code",
   "execution_count": 19,
   "metadata": {},
   "outputs": [],
   "source": [
    "data_with_factor = initdata.copy(deep=True)\n",
    "# перетворюємо Age на фактор змінну\n",
    "def age_factor(x):\n",
    "    if  x < 30:\n",
    "        return 0\n",
    "    elif 30 <= x <= 60:\n",
    "        return 1\n",
    "    else:\n",
    "        return 2\n",
    "\n",
    "data_with_factor['Age'] = initdata['Age'].apply(age_factor)"
   ]
  },
  {
   "cell_type": "code",
   "execution_count": 20,
   "metadata": {
    "scrolled": true
   },
   "outputs": [
    {
     "data": {
      "text/html": [
       "<div>\n",
       "<style scoped>\n",
       "    .dataframe tbody tr th:only-of-type {\n",
       "        vertical-align: middle;\n",
       "    }\n",
       "\n",
       "    .dataframe tbody tr th {\n",
       "        vertical-align: top;\n",
       "    }\n",
       "\n",
       "    .dataframe thead th {\n",
       "        text-align: right;\n",
       "    }\n",
       "</style>\n",
       "<table border=\"1\" class=\"dataframe\">\n",
       "  <thead>\n",
       "    <tr style=\"text-align: right;\">\n",
       "      <th></th>\n",
       "      <th>Age</th>\n",
       "      <th>Year of operation</th>\n",
       "      <th>Number of positive axillary nodes</th>\n",
       "      <th>Survival status</th>\n",
       "    </tr>\n",
       "  </thead>\n",
       "  <tbody>\n",
       "    <tr>\n",
       "      <th>0</th>\n",
       "      <td>1</td>\n",
       "      <td>64</td>\n",
       "      <td>1</td>\n",
       "      <td>1</td>\n",
       "    </tr>\n",
       "    <tr>\n",
       "      <th>1</th>\n",
       "      <td>1</td>\n",
       "      <td>62</td>\n",
       "      <td>3</td>\n",
       "      <td>1</td>\n",
       "    </tr>\n",
       "    <tr>\n",
       "      <th>2</th>\n",
       "      <td>1</td>\n",
       "      <td>65</td>\n",
       "      <td>0</td>\n",
       "      <td>1</td>\n",
       "    </tr>\n",
       "    <tr>\n",
       "      <th>3</th>\n",
       "      <td>1</td>\n",
       "      <td>59</td>\n",
       "      <td>2</td>\n",
       "      <td>1</td>\n",
       "    </tr>\n",
       "    <tr>\n",
       "      <th>4</th>\n",
       "      <td>1</td>\n",
       "      <td>65</td>\n",
       "      <td>4</td>\n",
       "      <td>1</td>\n",
       "    </tr>\n",
       "  </tbody>\n",
       "</table>\n",
       "</div>"
      ],
      "text/plain": [
       "   Age  Year of operation  Number of positive axillary nodes  Survival status\n",
       "0    1                 64                                  1                1\n",
       "1    1                 62                                  3                1\n",
       "2    1                 65                                  0                1\n",
       "3    1                 59                                  2                1\n",
       "4    1                 65                                  4                1"
      ]
     },
     "execution_count": 20,
     "metadata": {},
     "output_type": "execute_result"
    }
   ],
   "source": [
    "data_with_factor.head()"
   ]
  },
  {
   "cell_type": "code",
   "execution_count": 21,
   "metadata": {},
   "outputs": [],
   "source": [
    "newresponse = data_with_factor['Survival status']\n",
    "newinputvars = data_with_factor.drop(['Survival status'], axis=1)\n",
    "newx_train, newx_test, newy_train, newy_test = train_test_split(newinputvars, newresponse, test_size=0.2)"
   ]
  },
  {
   "cell_type": "markdown",
   "metadata": {},
   "source": [
    "# Класифікація по новим данним"
   ]
  },
  {
   "cell_type": "code",
   "execution_count": 22,
   "metadata": {},
   "outputs": [
    {
     "name": "stdout",
     "output_type": "stream",
     "text": [
      "Accuracy: 0.7580645161290323\n",
      "[[42  6]\n",
      " [ 9  5]]\n",
      "0.7253968253968255\n",
      "Accuracy: 0.7580645161290323\n",
      "F1:  0.8484848484848485\n",
      "Confusion Matrix:\n",
      "  [[42  6]\n",
      " [ 9  5]]\n",
      "Precision Score:  0.8235294117647058\n"
     ]
    }
   ],
   "source": [
    "from sklearn.naive_bayes import GaussianNB\n",
    "\n",
    "\n",
    "gnb = GaussianNB()\n",
    "\n",
    "\n",
    "gnb.fit(newx_train, newy_train)\n",
    "newy_pred = gnb.predict(newx_test)\n",
    "\n",
    "print(\"Accuracy:\",metrics.accuracy_score(newy_test, newy_pred))\n",
    "print(metrics.confusion_matrix(newy_test, newy_pred))\n",
    "scores = cross_val_score(gnb, newx_test, newy_test)\n",
    "print(scores.mean())\n",
    "\n",
    "print(\"Accuracy:\", metrics.accuracy_score(newy_test, newy_pred))\n",
    "print(\"F1: \", metrics.f1_score(newy_test, newy_pred))\n",
    "print(\"Confusion Matrix:\\n \", metrics.confusion_matrix(newy_test, newy_pred))\n",
    "print(\"Precision Score: \", metrics.precision_score(newy_test, newy_pred))\n"
   ]
  },
  {
   "cell_type": "code",
   "execution_count": 23,
   "metadata": {},
   "outputs": [
    {
     "name": "stdout",
     "output_type": "stream",
     "text": [
      "[0.7580645161290323, 0.7580645161290323, 0.7580645161290323, 0.7580645161290323, 0.7580645161290323, 0.7580645161290323, 0.7580645161290323, 0.7580645161290323, 0.7580645161290323, 0.7580645161290323, 0.7580645161290323, 0.7580645161290323, 0.7580645161290323, 0.7580645161290323, 0.7580645161290323, 0.7580645161290323, 0.7580645161290323, 0.7580645161290323, 0.7580645161290323, 0.7580645161290323, 0.7580645161290323, 0.7580645161290323, 0.7580645161290323, 0.7580645161290323, 0.7580645161290323, 0.7580645161290323, 0.7580645161290323, 0.7580645161290323, 0.7580645161290323]\n",
      "0.7580645161290323\n",
      "KNeighborsClassifier(algorithm='auto', leaf_size=30, metric='minkowski',\n",
      "           metric_params=None, n_jobs=1, n_neighbors=12, p=2,\n",
      "           weights='uniform')\n",
      "Accuracy: 0.7096774193548387\n",
      "F1:  0.816326530612245\n",
      "Confusion Matrix:\n",
      "  [[40  8]\n",
      " [10  4]]\n",
      "Precision Score:  0.8\n"
     ]
    },
    {
     "data": {
      "image/png": "[encoded data removed]",
      "text/plain": [
       "<Figure size 432x288 with 1 Axes>"
      ]
     },
     "metadata": {},
     "output_type": "display_data"
    }
   ],
   "source": [
    "from sklearn.neighbors import KNeighborsClassifier\n",
    "\n",
    "sc_X = StandardScaler()\n",
    "kx_train = sc_X.fit_transform(newx_train)\n",
    "kx_test = sc_X.transform(newx_test)\n",
    "k_scores = []\n",
    "\n",
    "for i in range(1,30):\n",
    "    \n",
    "    knn_classifier = KNeighborsClassifier(n_neighbors=i, p=2)\n",
    "    knn_classifier.fit(kx_train, newy_train)\n",
    "    y_pred = knn_classifier.predict(kx_test)\n",
    "    acc = metrics.accuracy_score(newy_test, newy_pred)\n",
    "    k_scores.append(acc)\n",
    "\n",
    "print(k_scores)\n",
    "import matplotlib.pyplot as plt\n",
    "print(max(k_scores))\n",
    "max_index = k_scores.index(max(k_scores))\n",
    "\n",
    "plt.plot(range(1,30), k_scores)\n",
    "\n",
    "knn_classifier = KNeighborsClassifier(n_neighbors=12, p=2)\n",
    "knn_classifier.fit(kx_train, newy_train)\n",
    "newy_pred = knn_classifier.predict(kx_test)\n",
    "print(knn_classifier)\n",
    "print(\"Accuracy:\", metrics.accuracy_score(newy_test, newy_pred))\n",
    "print(\"F1: \", metrics.f1_score(newy_test, newy_pred))\n",
    "print(\"Confusion Matrix:\\n \", metrics.confusion_matrix(newy_test, newy_pred))\n",
    "print(\"Precision Score: \", metrics.precision_score(newy_test, newy_pred))\n"
   ]
  },
  {
   "cell_type": "code",
   "execution_count": 24,
   "metadata": {},
   "outputs": [
    {
     "name": "stdout",
     "output_type": "stream",
     "text": [
      "[1 1 1 1 1 1 1 1 1 1 1 1 1 1 2 1 1 1 1 1 1 1 1 1 2 1 1 1 1 1 2 1 1 2 1 1 1\n",
      " 1 1 1 1 1 2 1 1 1 1 1 1 1 2 1 2 1 1 1 1 1 1 1 1 1]\n",
      "Accuracy: 0.7580645161290323\n",
      "F1:  0.854368932038835\n",
      "Confusion Matrix:\n",
      "  [[44  4]\n",
      " [11  3]]\n",
      "Precision Score:  0.8\n"
     ]
    }
   ],
   "source": [
    "log_reg = LogisticRegression(random_state=3)\n",
    "log_reg.fit(newx_train, newy_train)\n",
    "newy_pred = log_reg.predict(newx_test)\n",
    "print(newy_pred)\n",
    "print(\"Accuracy:\", metrics.accuracy_score(newy_test, newy_pred))\n",
    "print(\"F1: \", metrics.f1_score(newy_test, newy_pred))\n",
    "print(\"Confusion Matrix:\\n \", metrics.confusion_matrix(newy_test, newy_pred))\n",
    "print(\"Precision Score: \", metrics.precision_score(newy_test, newy_pred))\n"
   ]
  },
  {
   "cell_type": "markdown",
   "metadata": {},
   "source": [
    "# Класифікація по 2 ознакам(розбиття вибірки на підвиборки по фактор змінній)"
   ]
  },
  {
   "cell_type": "code",
   "execution_count": 25,
   "metadata": {
    "scrolled": true
   },
   "outputs": [
    {
     "name": "stdout",
     "output_type": "stream",
     "text": [
      "   Year of operation  Number of positive axillary nodes\n",
      "0                 64                                  1\n",
      "1                 62                                  3\n",
      "2                 65                                  0\n",
      "3                 59                                  2\n",
      "4                 65                                  4\n",
      "0    1\n",
      "1    1\n",
      "2    1\n",
      "3    1\n",
      "4    1\n",
      "Name: Survival status, dtype: int64\n",
      "Accuracy: 0.717391304347826\n",
      "[[28  1]\n",
      " [12  5]]\n",
      "0.6488095238095238\n"
     ]
    }
   ],
   "source": [
    "data3060 = data_with_factor.loc[data_with_factor['Age'] == 1 ]\n",
    "input3060 = data3060.drop(['Survival status', 'Age'], axis=1)\n",
    "response3060 = data3060['Survival status']\n",
    "print(input3060.head())\n",
    "print(response3060.head())\n",
    "newx_train, newx_test, newy_train, newy_test = train_test_split(input3060, response3060, test_size=0.2)\n",
    "from sklearn.naive_bayes import GaussianNB\n",
    "\n",
    "\n",
    "gnb = GaussianNB()\n",
    "gnb.fit(newx_train, newy_train)\n",
    "newy_pred = gnb.predict(newx_test)\n",
    "\n",
    "print(\"Accuracy:\",metrics.accuracy_score(newy_test, newy_pred))\n",
    "print(metrics.confusion_matrix(newy_test, newy_pred))\n",
    "scores = cross_val_score(gnb, newx_test, newy_test)\n",
    "print(scores.mean())\n",
    "\n"
   ]
  },
  {
   "cell_type": "code",
   "execution_count": 26,
   "metadata": {},
   "outputs": [
    {
     "name": "stdout",
     "output_type": "stream",
     "text": [
      "[0.717391304347826, 0.717391304347826, 0.717391304347826, 0.717391304347826, 0.717391304347826, 0.717391304347826, 0.717391304347826, 0.717391304347826, 0.717391304347826, 0.717391304347826, 0.717391304347826, 0.717391304347826, 0.717391304347826, 0.717391304347826, 0.717391304347826, 0.717391304347826, 0.717391304347826, 0.717391304347826, 0.717391304347826, 0.717391304347826, 0.717391304347826, 0.717391304347826, 0.717391304347826, 0.717391304347826, 0.717391304347826, 0.717391304347826, 0.717391304347826, 0.717391304347826, 0.717391304347826]\n",
      "0.717391304347826\n",
      "KNeighborsClassifier(algorithm='auto', leaf_size=30, metric='minkowski',\n",
      "           metric_params=None, n_jobs=1, n_neighbors=12, p=2,\n",
      "           weights='uniform')\n",
      "Accuracy: 0.6304347826086957\n",
      "F1:  0.7733333333333333\n",
      "Confusion Matrix:\n",
      "  [[29  0]\n",
      " [17  0]]\n",
      "Precision Score:  0.6304347826086957\n"
     ]
    },
    {
     "data": {
      "image/png": "[encoded data removed]",
      "text/plain": [
       "<Figure size 432x288 with 1 Axes>"
      ]
     },
     "metadata": {},
     "output_type": "display_data"
    }
   ],
   "source": [
    "from sklearn.neighbors import KNeighborsClassifier\n",
    "\n",
    "sc_X = StandardScaler()\n",
    "kx_train = sc_X.fit_transform(newx_train)\n",
    "kx_test = sc_X.transform(newx_test)\n",
    "k_scores = []\n",
    "\n",
    "for i in range(1,30):\n",
    "    \n",
    "    knn_classifier = KNeighborsClassifier(n_neighbors=i, p=2)\n",
    "    knn_classifier.fit(kx_train, newy_train)\n",
    "    y_pred = knn_classifier.predict(kx_test)\n",
    "    acc = metrics.accuracy_score(newy_test, newy_pred)\n",
    "    k_scores.append(acc)\n",
    "\n",
    "print(k_scores)\n",
    "import matplotlib.pyplot as plt\n",
    "print(max(k_scores))\n",
    "max_index = k_scores.index(max(k_scores))\n",
    "\n",
    "plt.plot(range(1,30), k_scores)\n",
    "\n",
    "knn_classifier = KNeighborsClassifier(n_neighbors=12, p=2)\n",
    "knn_classifier.fit(kx_train, newy_train)\n",
    "newy_pred = knn_classifier.predict(kx_test)\n",
    "print(knn_classifier)\n",
    "print(\"Accuracy:\", metrics.accuracy_score(newy_test, newy_pred))\n",
    "print(\"F1: \", metrics.f1_score(newy_test, newy_pred))\n",
    "print(\"Confusion Matrix:\\n \", metrics.confusion_matrix(newy_test, newy_pred))\n",
    "print(\"Precision Score: \", metrics.precision_score(newy_test, newy_pred))"
   ]
  },
  {
   "cell_type": "code",
   "execution_count": 27,
   "metadata": {},
   "outputs": [
    {
     "name": "stdout",
     "output_type": "stream",
     "text": [
      "Accuracy: 0.6739130434782609\n",
      "F1:  0.7887323943661971\n",
      "Confusion Matrix:\n",
      "  [[28  1]\n",
      " [14  3]]\n",
      "Precision Score:  0.6666666666666666\n"
     ]
    }
   ],
   "source": [
    "log_reg = LogisticRegression(random_state=3)\n",
    "log_reg.fit(newx_train, newy_train)\n",
    "newy_pred = log_reg.predict(newx_test)\n",
    "\n",
    "print(\"Accuracy:\", metrics.accuracy_score(newy_test, newy_pred))\n",
    "print(\"F1: \", metrics.f1_score(newy_test, newy_pred))\n",
    "print(\"Confusion Matrix:\\n \", metrics.confusion_matrix(newy_test, newy_pred))\n",
    "print(\"Precision Score: \", metrics.precision_score(newy_test, newy_pred))"
   ]
  },
  {
   "cell_type": "markdown",
   "metadata": {},
   "source": [
    "# Висновок\n"
   ]
  },
  {
   "cell_type": "code",
   "execution_count": 28,
   "metadata": {},
   "outputs": [
    {
     "name": "stdout",
     "output_type": "stream",
     "text": [
      "LR: 0.754902 (0.042358)\n",
      "K-nn: 0.715686 (0.044569)\n",
      "NB: 0.728758 (0.025732)\n",
      "K-nn з 15 : 0.738562 (0.028112)\n"
     ]
    },
    {
     "data": {
      "image/png": "[encoded data removed]",
      "text/plain": [
       "<Figure size 432x288 with 1 Axes>"
      ]
     },
     "metadata": {},
     "output_type": "display_data"
    }
   ],
   "source": [
    "import pandas\n",
    "import matplotlib.pyplot as plt\n",
    "from sklearn import model_selection\n",
    "\n",
    "models = []\n",
    "models.append(('LR', LogisticRegression()))\n",
    "models.append(('K-nn', KNeighborsClassifier()))\n",
    "models.append(('NB', GaussianNB()))\n",
    "\n",
    "\n",
    "results = []\n",
    "names = []\n",
    "scoring = 'accuracy'\n",
    "seed = 6\n",
    "for name, model in models:\n",
    "    kfold = model_selection.KFold(n_splits=3, random_state=seed)\n",
    "    cv_results = model_selection.cross_val_score(model, inputvars, response, cv=kfold, scoring=scoring)\n",
    "    results.append(cv_results)\n",
    "    names.append(name)\n",
    "    msg = \"%s: %f (%f)\" % (name, cv_results.mean(), cv_results.std())\n",
    "    print(msg)\n",
    "\n",
    "#\n",
    "sc_X = StandardScaler()\n",
    "knninput = sc_X.fit_transform(inputvars)\n",
    "\n",
    "\n",
    "knn_classifier = KNeighborsClassifier(n_neighbors=15, p=2)\n",
    "kfold = model_selection.KFold(n_splits=3, random_state=seed)\n",
    "cv_results = model_selection.cross_val_score(knn_classifier, knninput, response, cv=kfold, scoring=scoring) \n",
    "results.append(cv_results)\n",
    "names.append(\"K-nn з 15 \")\n",
    "msg = \"%s: %f (%f)\" % (\"K-nn з 15 \", cv_results.mean(), cv_results.std())\n",
    "print(msg)    \n",
    "#\n",
    "\n",
    "\n",
    "fig = plt.figure()\n",
    "fig.suptitle('Порівняння алгоритмів')\n",
    "ax = fig.add_subplot(111)\n",
    "plt.boxplot(results)\n",
    "ax.set_xticklabels(names)\n",
    "plt.show()"
   ]
  },
  {
   "cell_type": "markdown",
   "metadata": {},
   "source": [
    "# Порівняння\n",
    "Бачимо, що серед всіх моделей найкраще впоралася у більшості випадків класифікація за допомогою лінійної регресії, після неї K-nn метод.\n",
    "На початковій виборці найкраще показав себе K-nn метод із підбранною кількустю сусідів.\n",
    "Коли ми розбили виборку за фактор змінними, точність моделі підвищилася порівняно із данними з фактор змінною, але не на багато. Загалом точність моделі не покращилась із розбиттям на фактор змінні і створенням фактор змінної.\n"
   ]
  },
  {
   "cell_type": "markdown",
   "metadata": {},
   "source": [
    "# Спам фільтр на основі наївного класифікатора"
   ]
  },
  {
   "cell_type": "code",
   "execution_count": 29,
   "metadata": {},
   "outputs": [
    {
     "name": "stdout",
     "output_type": "stream",
     "text": [
      "0.9827709978463748\n",
      "[[1195   13]\n",
      " [  11  174]]\n"
     ]
    }
   ],
   "source": [
    "from sklearn.feature_extraction.text import CountVectorizer\n",
    "\n",
    "data = pd.read_csv('Documents/classdata/spam-text-message-classification/spam.csv')\n",
    "response = data['Category']\n",
    "messages = data['Message']\n",
    "vectorizer = CountVectorizer()\n",
    "vectordata = vectorizer.fit_transform(messages)\n",
    "data = vectordata.toarray()\n",
    "\n",
    "dataframe = pd.DataFrame(vectordata.toarray(), columns=vectorizer.get_feature_names())\n",
    "\n",
    "X_train, X_test, y_train, y_test = train_test_split(data, response, random_state=1)\n",
    "\n",
    "from sklearn.naive_bayes import MultinomialNB\n",
    "\n",
    "\n",
    "nb = MultinomialNB()\n",
    "nb.fit(X_train, y_train)\n",
    "y_pred = nb.predict(X_test)\n",
    "\n",
    "print(metrics.accuracy_score(y_test, y_pred))\n",
    "print(metrics.confusion_matrix(y_test, y_pred))"
   ]
  },
  {
   "cell_type": "code",
   "execution_count": null,
   "metadata": {},
   "outputs": [],
   "source": []
  },
  {
   "cell_type": "code",
   "execution_count": null,
   "metadata": {},
   "outputs": [],
   "source": []
  }
 ],
 "metadata": {
  "kernelspec": {
   "display_name": "Python 3",
   "language": "python",
   "name": "python3"
  },
  "language_info": {
   "codemirror_mode": {
    "name": "ipython",
    "version": 3
   },
   "file_extension": ".py",
   "mimetype": "text/x-python",
   "name": "python",
   "nbconvert_exporter": "python",
   "pygments_lexer": "ipython3",
   "version": "3.6.5"
  }
 },
 "nbformat": 4,
 "nbformat_minor": 2
}
